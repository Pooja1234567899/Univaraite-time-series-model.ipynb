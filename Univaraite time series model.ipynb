{
 "cells": [
  {
   "cell_type": "markdown",
   "id": "6b5609f0",
   "metadata": {},
   "source": [
    "# ARIMA Models With R"
   ]
  },
  {
   "cell_type": "code",
   "execution_count": 1,
   "id": "d6030c70",
   "metadata": {},
   "outputs": [
    {
     "data": {
      "text/html": [
       "'C:/Users/mnf13'"
      ],
      "text/latex": [
       "'C:/Users/mnf13'"
      ],
      "text/markdown": [
       "'C:/Users/mnf13'"
      ],
      "text/plain": [
       "[1] \"C:/Users/mnf13\""
      ]
     },
     "metadata": {},
     "output_type": "display_data"
    }
   ],
   "source": [
    "#get working directory\n",
    "getwd()\n"
   ]
  },
  {
   "cell_type": "code",
   "execution_count": 3,
   "id": "be1050b5",
   "metadata": {},
   "outputs": [],
   "source": [
    "#set working directory\n",
    "setwd(\"C:/Users/mnf13/RM\")"
   ]
  },
  {
   "cell_type": "code",
   "execution_count": 4,
   "id": "7d5705c2",
   "metadata": {},
   "outputs": [],
   "source": [
    "#Upload data\n",
    "BMW<-read.csv(\"BMW.csv\", header=TRUE)"
   ]
  },
  {
   "cell_type": "code",
   "execution_count": 5,
   "id": "be9188d2",
   "metadata": {},
   "outputs": [
    {
     "data": {
      "text/html": [
       "<table>\n",
       "<thead><tr><th scope=col>Years</th><th scope=col>Prices</th></tr></thead>\n",
       "<tbody>\n",
       "\t<tr><td>06/11/1995</td><td>11.984    </td></tr>\n",
       "\t<tr><td>07/11/1995</td><td>12.000    </td></tr>\n",
       "\t<tr><td>08/11/1995</td><td>12.158    </td></tr>\n",
       "\t<tr><td>09/11/1995</td><td>12.316    </td></tr>\n",
       "\t<tr><td>10/11/1995</td><td>12.221    </td></tr>\n",
       "\t<tr><td>13/11/1995</td><td>12.221    </td></tr>\n",
       "</tbody>\n",
       "</table>\n"
      ],
      "text/latex": [
       "\\begin{tabular}{r|ll}\n",
       " Years & Prices\\\\\n",
       "\\hline\n",
       "\t 06/11/1995 & 11.984    \\\\\n",
       "\t 07/11/1995 & 12.000    \\\\\n",
       "\t 08/11/1995 & 12.158    \\\\\n",
       "\t 09/11/1995 & 12.316    \\\\\n",
       "\t 10/11/1995 & 12.221    \\\\\n",
       "\t 13/11/1995 & 12.221    \\\\\n",
       "\\end{tabular}\n"
      ],
      "text/markdown": [
       "\n",
       "| Years | Prices |\n",
       "|---|---|\n",
       "| 06/11/1995 | 11.984     |\n",
       "| 07/11/1995 | 12.000     |\n",
       "| 08/11/1995 | 12.158     |\n",
       "| 09/11/1995 | 12.316     |\n",
       "| 10/11/1995 | 12.221     |\n",
       "| 13/11/1995 | 12.221     |\n",
       "\n"
      ],
      "text/plain": [
       "  Years      Prices\n",
       "1 06/11/1995 11.984\n",
       "2 07/11/1995 12.000\n",
       "3 08/11/1995 12.158\n",
       "4 09/11/1995 12.316\n",
       "5 10/11/1995 12.221\n",
       "6 13/11/1995 12.221"
      ]
     },
     "metadata": {},
     "output_type": "display_data"
    }
   ],
   "source": [
    "head(BMW)"
   ]
  },
  {
   "cell_type": "markdown",
   "id": "03e9480d",
   "metadata": {},
   "source": [
    "# Time Plot to check stationarity"
   ]
  },
  {
   "cell_type": "code",
   "execution_count": null,
   "id": "7241b754",
   "metadata": {},
   "outputs": [],
   "source": [
    "install.packages(\"PerformanceAnalytics\")"
   ]
  },
  {
   "cell_type": "code",
   "execution_count": 7,
   "id": "c477ec3a",
   "metadata": {},
   "outputs": [],
   "source": [
    "library (PerformanceAnalytics)"
   ]
  },
  {
   "cell_type": "code",
   "execution_count": 12,
   "id": "6aa2ae47",
   "metadata": {},
   "outputs": [
    {
     "data": {
      "text/html": [
       "'Date'"
      ],
      "text/latex": [
       "'Date'"
      ],
      "text/markdown": [
       "'Date'"
      ],
      "text/plain": [
       "[1] \"Date\""
      ]
     },
     "metadata": {},
     "output_type": "display_data"
    }
   ],
   "source": [
    "#set timeseries element\n",
    "BMW$Years <- as.Date(BMW$Years, \"%d/%m/%Y\")\n",
    "class(BMW$Years)\n",
    "BMW.z = zoo(x=BMW$Prices, order.by=BMW$Years)"
   ]
  },
  {
   "cell_type": "code",
   "execution_count": 14,
   "id": "a6832e03",
   "metadata": {},
   "outputs": [
    {
     "data": {
      "image/png": "[encoded data removed]",
      "text/plain": [
       "Plot with title \"BMW Daily Prices\""
      ]
     },
     "metadata": {},
     "output_type": "display_data"
    }
   ],
   "source": [
    "plot.zoo(BMW.z, main = \"BMW Daily Prices\", xlab =\n",
    "         \"Time\", ylab = \"Daily Prices\", lwd = 2, col = \"blue\")"
   ]
  },
  {
   "cell_type": "markdown",
   "id": "ad8e46d7",
   "metadata": {},
   "source": [
    "# 1. Stationarity Test"
   ]
  },
  {
   "cell_type": "markdown",
   "id": "178e19bb",
   "metadata": {},
   "source": [
    "### 1. ADF Unit-Root Test/Stationry test."
   ]
  },
  {
   "cell_type": "markdown",
   "id": "28e714c4",
   "metadata": {},
   "source": [
    "#### H0: Data is not staionary"
   ]
  },
  {
   "cell_type": "markdown",
   "id": "153a3655",
   "metadata": {},
   "source": [
    "#### H1: Data is Staionary"
   ]
  },
  {
   "cell_type": "code",
   "execution_count": 15,
   "id": "91299fed",
   "metadata": {},
   "outputs": [
    {
     "name": "stdout",
     "output_type": "stream",
     "text": [
      "\n",
      "  There is a binary version available but the source version is later:\n",
      "         binary  source needs_compilation\n",
      "tseries 0.10-48 0.10-52              TRUE\n",
      "\n",
      "  Binaries will be installed\n",
      "package 'tseries' successfully unpacked and MD5 sums checked\n",
      "\n",
      "The downloaded binary packages are in\n",
      "\tC:\\Users\\mnf13\\AppData\\Local\\Temp\\RtmpOyF0mM\\downloaded_packages\n"
     ]
    }
   ],
   "source": [
    "install.packages(\"tseries\")"
   ]
  },
  {
   "cell_type": "code",
   "execution_count": 16,
   "id": "9188d8f2",
   "metadata": {},
   "outputs": [
    {
     "name": "stderr",
     "output_type": "stream",
     "text": [
      "Warning message:\n",
      "\"package 'tseries' was built under R version 3.6.3\"Registered S3 method overwritten by 'quantmod':\n",
      "  method            from\n",
      "  as.zoo.data.frame zoo \n"
     ]
    }
   ],
   "source": [
    "library(tseries)"
   ]
  },
  {
   "cell_type": "code",
   "execution_count": 21,
   "id": "90355042",
   "metadata": {},
   "outputs": [
    {
     "data": {
      "text/plain": [
       "\n",
       "\tAugmented Dickey-Fuller Test\n",
       "\n",
       "data:  BMW$Prices\n",
       "Dickey-Fuller = -2.0092, Lag order = 16, p-value = 0.5745\n",
       "alternative hypothesis: stationary\n"
      ]
     },
     "metadata": {},
     "output_type": "display_data"
    }
   ],
   "source": [
    "#ADF test\n",
    "adf.test(BMW$Prices, alternative = c(\"stationary\"),\n",
    " k = trunc((length(BMW$Prices)-1)^(1/3)))"
   ]
  },
  {
   "cell_type": "markdown",
   "id": "97957a96",
   "metadata": {},
   "source": [
    "#### As p value is 0.5745 and that is more than 0.05.We accept Null Hypothesis. So our data is not staionary."
   ]
  },
  {
   "cell_type": "markdown",
   "id": "4da1d445",
   "metadata": {},
   "source": [
    "### 2. Phillips-Perron Unit Root Test"
   ]
  },
  {
   "cell_type": "code",
   "execution_count": 22,
   "id": "41694555",
   "metadata": {},
   "outputs": [
    {
     "data": {
      "text/plain": [
       "\n",
       "\tPhillips-Perron Unit Root Test\n",
       "\n",
       "data:  BMW$Prices\n",
       "Dickey-Fuller = -2.1476, Truncation lag parameter = 10, p-value =\n",
       "0.5158\n"
      ]
     },
     "metadata": {},
     "output_type": "display_data"
    }
   ],
   "source": [
    "PP.test(BMW$Prices)"
   ]
  },
  {
   "cell_type": "markdown",
   "id": "e4249f11",
   "metadata": {},
   "source": [
    "#### As p value is 0.5158 and that is more than 0.05.We accept Null Hypothesis. So our data is not staionary.\n"
   ]
  },
  {
   "cell_type": "markdown",
   "id": "26d3f8b9",
   "metadata": {},
   "source": [
    "# 2. Autocorrelation test"
   ]
  },
  {
   "cell_type": "markdown",
   "id": "e837dafa",
   "metadata": {},
   "source": [
    "### ACF and PACF Plots"
   ]
  },
  {
   "cell_type": "markdown",
   "id": "92adff5d",
   "metadata": {},
   "source": [
    "Total Correlation Chart (also known as Auto – correlation Function / ACF help us determine what type of series we have, whether it is a White noise, Random walk, Auto regressive or\n",
    "Moving average.\n"
   ]
  },
  {
   "cell_type": "code",
   "execution_count": 24,
   "id": "1eb83936",
   "metadata": {},
   "outputs": [
    {
     "data": {
      "image/png": "[encoded data removed]",
      "text/plain": [
       "Plot with title \"Series  BMW$Prices\""
      ]
     },
     "metadata": {},
     "output_type": "display_data"
    }
   ],
   "source": [
    "#ACF plot\n",
    "acf(BMW$Prices)\n"
   ]
  },
  {
   "cell_type": "code",
   "execution_count": 25,
   "id": "6a588c18",
   "metadata": {},
   "outputs": [
    {
     "data": {
      "image/png": "[encoded data removed]",
      "text/plain": [
       "Plot with title \"Series  BMW$Prices\""
      ]
     },
     "metadata": {},
     "output_type": "display_data"
    }
   ],
   "source": [
    "#PACF Plot\n",
    "pacf(BMW$Prices)"
   ]
  },
  {
   "cell_type": "markdown",
   "id": "b3d4c86f",
   "metadata": {},
   "source": [
    "## Ljung–Box test"
   ]
  },
  {
   "cell_type": "markdown",
   "id": "b68dcba0",
   "metadata": {},
   "source": [
    "#### H0: The data are independently distributed (no auto correlation)"
   ]
  },
  {
   "cell_type": "markdown",
   "id": "1bd9a6df",
   "metadata": {},
   "source": [
    "#### H1: The data are not independently distributed."
   ]
  },
  {
   "cell_type": "markdown",
   "id": "07e0c845",
   "metadata": {},
   "source": [
    "#### If p<0.05 reject null hypothesis."
   ]
  },
  {
   "cell_type": "code",
   "execution_count": 26,
   "id": "6aa2753b",
   "metadata": {},
   "outputs": [
    {
     "data": {
      "text/plain": [
       "\n",
       "\tBox-Ljung test\n",
       "\n",
       "data:  BMW$Prices\n",
       "X-squared = 89268, df = 20, p-value < 2.2e-16\n"
      ]
     },
     "metadata": {},
     "output_type": "display_data"
    }
   ],
   "source": [
    "Box.test(BMW$Prices, lag = 20, type = c(\"Ljung-Box\"), fitdf = 0)"
   ]
  },
  {
   "cell_type": "markdown",
   "id": "d4ad25df",
   "metadata": {},
   "source": [
    "#### As p-values is 2.2e-16<0.05, we reject null hypothesis, thus our data has Autocorrelation."
   ]
  },
  {
   "cell_type": "markdown",
   "id": "5e55e1c3",
   "metadata": {},
   "source": [
    "# 3. Convert Data Into a Staionary/First Differnece"
   ]
  },
  {
   "cell_type": "markdown",
   "id": "f9e9d32a",
   "metadata": {},
   "source": [
    "One way to do this is via differencing or in other words calculate Returns of stock prices."
   ]
  },
  {
   "cell_type": "markdown",
   "id": "c0c3b575",
   "metadata": {},
   "source": [
    "To calculate Returns of stock prices."
   ]
  },
  {
   "cell_type": "code",
   "execution_count": 27,
   "id": "d61591df",
   "metadata": {},
   "outputs": [],
   "source": [
    "Return <- c(diff(log(BMW$Prices),1))"
   ]
  },
  {
   "cell_type": "code",
   "execution_count": 28,
   "id": "9e06fbda",
   "metadata": {},
   "outputs": [
    {
     "data": {
      "image/png": "[encoded data removed]",
      "text/plain": [
       "Plot with title \" BMW Returns Plot\""
      ]
     },
     "metadata": {},
     "output_type": "display_data"
    }
   ],
   "source": [
    "plot.zoo(Return,main = \" BMW Returns Plot\", lwd = 2, col = \"blue\")"
   ]
  },
  {
   "cell_type": "markdown",
   "id": "f0377d5a",
   "metadata": {},
   "source": [
    "Our data is weak Staionary."
   ]
  },
  {
   "cell_type": "markdown",
   "id": "52f7e072",
   "metadata": {},
   "source": [
    "### WE will plot ACF and PACF of stationary data"
   ]
  },
  {
   "cell_type": "code",
   "execution_count": 30,
   "id": "6007c960",
   "metadata": {},
   "outputs": [
    {
     "data": {
      "image/png": "[encoded data removed]",
      "text/plain": [
       "Plot with title \"Series  Return\""
      ]
     },
     "metadata": {},
     "output_type": "display_data"
    }
   ],
   "source": [
    "#ACF plot\n",
    "acf(Return)"
   ]
  },
  {
   "cell_type": "code",
   "execution_count": 31,
   "id": "f21c6400",
   "metadata": {},
   "outputs": [
    {
     "data": {
      "image/png": "[encoded data removed]",
      "text/plain": [
       "Plot with title \"Series  Return\""
      ]
     },
     "metadata": {},
     "output_type": "display_data"
    }
   ],
   "source": [
    "#PACF plot\n",
    "pacf(Return)"
   ]
  },
  {
   "cell_type": "markdown",
   "id": "80a59973",
   "metadata": {},
   "source": [
    "# 4.Fitting of Univaraite Timeseries Models"
   ]
  },
  {
   "cell_type": "markdown",
   "id": "88580249",
   "metadata": {},
   "source": [
    "## (i) Estimation of AR models"
   ]
  },
  {
   "cell_type": "markdown",
   "id": "47b21327",
   "metadata": {},
   "source": [
    "For a given time series Returns we can fit the autoregressive (AR) model using the arima() command and setting order equal to c(1, 0, 0). Note for reference that an AR model is an\n",
    "ARIMA(1, 0, 0) model."
   ]
  },
  {
   "cell_type": "code",
   "execution_count": 32,
   "id": "23b9b22d",
   "metadata": {},
   "outputs": [
    {
     "name": "stdout",
     "output_type": "stream",
     "text": [
      "\n",
      "Call:\n",
      "arima(x = Return, order = c(1, 0, 0))\n",
      "\n",
      "Coefficients:\n",
      "         ar1  intercept\n",
      "      0.0432      4e-04\n",
      "s.e.  0.0146      3e-04\n",
      "\n",
      "sigma^2 estimated as 0.0004723:  log likelihood = 11319.65,  aic = -22633.3\n"
     ]
    }
   ],
   "source": [
    "#Fitting the AR Model to the time series\n",
    "AR <- arima(Return, order = c(1,0,0))\n",
    "print(AR)"
   ]
  },
  {
   "cell_type": "markdown",
   "id": "472e824b",
   "metadata": {},
   "source": [
    "### ACF Curve of Fittted Model"
   ]
  },
  {
   "cell_type": "code",
   "execution_count": 61,
   "id": "2767bda6",
   "metadata": {},
   "outputs": [],
   "source": [
    "AR_fit <- Return - residuals(AR)"
   ]
  },
  {
   "cell_type": "code",
   "execution_count": 62,
   "id": "101217c7",
   "metadata": {},
   "outputs": [
    {
     "data": {
      "image/png": "[encoded data removed]",
      "text/plain": [
       "Plot with title \"Series  AR_fit\""
      ]
     },
     "metadata": {},
     "output_type": "display_data"
    }
   ],
   "source": [
    "acf(AR_fit)"
   ]
  },
  {
   "cell_type": "markdown",
   "id": "f3c7fba0",
   "metadata": {},
   "source": [
    "# (ii)Estimation of MA Model\n"
   ]
  },
  {
   "cell_type": "markdown",
   "id": "82ddeb4f",
   "metadata": {},
   "source": [
    "We can fit the simple moving average (MA) model using arima(…, order = c(0, 0, 1)). Note for reference that an MA model is an ARIMA(0, 0, 1) model.\n"
   ]
  },
  {
   "cell_type": "code",
   "execution_count": 63,
   "id": "e45e8ebc",
   "metadata": {},
   "outputs": [
    {
     "name": "stdout",
     "output_type": "stream",
     "text": [
      "\n",
      "Call:\n",
      "arima(x = Return, order = c(0, 0, 1))\n",
      "\n",
      "Coefficients:\n",
      "         ma1  intercept\n",
      "      0.0481      4e-04\n",
      "s.e.  0.0153      3e-04\n",
      "\n",
      "sigma^2 estimated as 0.0004722:  log likelihood = 11320.16,  aic = -22634.33\n"
     ]
    }
   ],
   "source": [
    "#Fitting the MA model to Returns\n",
    "MA<- arima(Return, order = c(0,0,1))\n",
    "print(MA)"
   ]
  },
  {
   "cell_type": "code",
   "execution_count": 64,
   "id": "bf0004ef",
   "metadata": {},
   "outputs": [],
   "source": [
    "MA_fit <- Return - residuals(MA)"
   ]
  },
  {
   "cell_type": "code",
   "execution_count": 65,
   "id": "fed74b7c",
   "metadata": {},
   "outputs": [
    {
     "data": {
      "image/png": "[encoded data removed]",
      "text/plain": [
       "Plot with title \"Series  MA_fit\""
      ]
     },
     "metadata": {},
     "output_type": "display_data"
    }
   ],
   "source": [
    "acf(MA_fit)\n"
   ]
  },
  {
   "cell_type": "markdown",
   "id": "b6d6bdd7",
   "metadata": {},
   "source": [
    "# (iii) Estimation of ARMA Models"
   ]
  },
  {
   "cell_type": "markdown",
   "id": "c5243dc8",
   "metadata": {},
   "source": [
    "We can fit ARMA model using arima(…, order = c(1,0,1)). Note for reference that an ARMA model is an ARIMA(1, 0, 1) model.\n"
   ]
  },
  {
   "cell_type": "code",
   "execution_count": 66,
   "id": "8eb2a0d5",
   "metadata": {},
   "outputs": [
    {
     "name": "stdout",
     "output_type": "stream",
     "text": [
      "\n",
      "Call:\n",
      "arima(x = Return, order = c(1, 0, 1))\n",
      "\n",
      "Coefficients:\n",
      "          ar1     ma1  intercept\n",
      "      -0.2772  0.3284      4e-04\n",
      "s.e.   0.1394  0.1366      3e-04\n",
      "\n",
      "sigma^2 estimated as 0.0004719:  log likelihood = 11321.94,  aic = -22635.87\n"
     ]
    }
   ],
   "source": [
    "#Fitting the MA model to Returns\n",
    "arma <- arima(Return, order = c(1,0,1))\n",
    "print(arma)"
   ]
  },
  {
   "cell_type": "code",
   "execution_count": 67,
   "id": "64e2308c",
   "metadata": {},
   "outputs": [],
   "source": [
    "arma_fit <- Return - resid(arma)"
   ]
  },
  {
   "cell_type": "code",
   "execution_count": 68,
   "id": "e557b297",
   "metadata": {},
   "outputs": [
    {
     "data": {
      "image/png": "[encoded data removed]",
      "text/plain": [
       "Plot with title \"Series  arma_fit\""
      ]
     },
     "metadata": {},
     "output_type": "display_data"
    }
   ],
   "source": [
    "acf(arma_fit)"
   ]
  },
  {
   "cell_type": "markdown",
   "id": "0d2e486e",
   "metadata": {},
   "source": [
    "# (iv) ARIMA Models"
   ]
  },
  {
   "cell_type": "markdown",
   "id": "11c8d99f",
   "metadata": {},
   "source": [
    "ARIMA (autoregressive integrated moving average) is a commonly used technique utilized to fit time series data and forecasting. It is a generalized version of ARMA (autoregressive\n",
    "moving average) process, where the ARMA process is applied for a differenced version of the data rather than original.\n",
    "Three numbers p, d and q specify ARIMA model and the ARIMA model is said to be of order (p,d,q). Here p, d and q are the orders of AR part, Difference and the MA part respectively."
   ]
  },
  {
   "cell_type": "code",
   "execution_count": 70,
   "id": "f1611f4e",
   "metadata": {},
   "outputs": [
    {
     "name": "stdout",
     "output_type": "stream",
     "text": [
      "\n",
      "Call:\n",
      "arima(x = Return, order = c(1, 1, 1))\n",
      "\n",
      "Coefficients:\n",
      "         ar1     ma1\n",
      "      0.0434  -1.000\n",
      "s.e.  0.0146   0.001\n",
      "\n",
      "sigma^2 estimated as 0.0004724:  log likelihood = 11312.56,  aic = -22619.12\n"
     ]
    }
   ],
   "source": [
    "arima_1=arima(Return, order=c(1,1,1))\n",
    "print(arima_1)"
   ]
  },
  {
   "cell_type": "code",
   "execution_count": 71,
   "id": "cd0a1393",
   "metadata": {},
   "outputs": [],
   "source": [
    "arima_fit_1 <- Return - resid(arima_1)"
   ]
  },
  {
   "cell_type": "code",
   "execution_count": 72,
   "id": "1f581b07",
   "metadata": {},
   "outputs": [],
   "source": [
    "arima_fit_1 <- Return - resid(arima_1)"
   ]
  },
  {
   "cell_type": "code",
   "execution_count": 74,
   "id": "6a29d224",
   "metadata": {},
   "outputs": [
    {
     "data": {
      "image/png": "[encoded data removed]",
      "text/plain": [
       "Plot with title \"Series  arima_fit_1\""
      ]
     },
     "metadata": {},
     "output_type": "display_data"
    }
   ],
   "source": [
    "acf(arima_fit_1)"
   ]
  },
  {
   "cell_type": "markdown",
   "id": "79ac8670",
   "metadata": {},
   "source": [
    "# Selction of Best Model"
   ]
  },
  {
   "cell_type": "markdown",
   "id": "63515f4e",
   "metadata": {},
   "source": [
    "Once we have got the models ready we must answer the important question: Should we choose AR or MA or ARMA process? Goodness of fit such as an Information criteria is an method to help\n",
    "us make the decision. Specifically Akaike information criterion (AIC) and Bayesian information criterion (BIC) are used for Time series Models. All factors being equal, a model that\n",
    "produces a lower AIC or BIC than another model is considered a better fit."
   ]
  },
  {
   "cell_type": "code",
   "execution_count": 75,
   "id": "6a1659a4",
   "metadata": {},
   "outputs": [
    {
     "data": {
      "text/html": [
       "-22633.3016121207"
      ],
      "text/latex": [
       "-22633.3016121207"
      ],
      "text/markdown": [
       "-22633.3016121207"
      ],
      "text/plain": [
       "[1] -22633.3"
      ]
     },
     "metadata": {},
     "output_type": "display_data"
    }
   ],
   "source": [
    "AIC(AR)"
   ]
  },
  {
   "cell_type": "code",
   "execution_count": 76,
   "id": "8302126f",
   "metadata": {},
   "outputs": [
    {
     "data": {
      "text/html": [
       "-22634.3265445578"
      ],
      "text/latex": [
       "-22634.3265445578"
      ],
      "text/markdown": [
       "-22634.3265445578"
      ],
      "text/plain": [
       "[1] -22634.33"
      ]
     },
     "metadata": {},
     "output_type": "display_data"
    }
   ],
   "source": [
    "AIC(MA)"
   ]
  },
  {
   "cell_type": "code",
   "execution_count": 78,
   "id": "d23fa983",
   "metadata": {},
   "outputs": [
    {
     "data": {
      "text/html": [
       "-22635.8706290128"
      ],
      "text/latex": [
       "-22635.8706290128"
      ],
      "text/markdown": [
       "-22635.8706290128"
      ],
      "text/plain": [
       "[1] -22635.87"
      ]
     },
     "metadata": {},
     "output_type": "display_data"
    }
   ],
   "source": [
    "AIC(arma)"
   ]
  },
  {
   "cell_type": "code",
   "execution_count": 79,
   "id": "ef987941",
   "metadata": {},
   "outputs": [
    {
     "data": {
      "text/html": [
       "-22619.1155526387"
      ],
      "text/latex": [
       "-22619.1155526387"
      ],
      "text/markdown": [
       "-22619.1155526387"
      ],
      "text/plain": [
       "[1] -22619.12"
      ]
     },
     "metadata": {},
     "output_type": "display_data"
    }
   ],
   "source": [
    "AIC(arima_1)"
   ]
  },
  {
   "cell_type": "markdown",
   "id": "bb4abf75",
   "metadata": {},
   "source": [
    "# End of Lecture"
   ]
  },
  {
   "cell_type": "code",
   "execution_count": null,
   "id": "17be4807",
   "metadata": {},
   "outputs": [],
   "source": []
  }
 ],
 "metadata": {
  "kernelspec": {
   "display_name": "R",
   "language": "R",
   "name": "ir"
  },
  "language_info": {
   "codemirror_mode": "r",
   "file_extension": ".r",
   "mimetype": "text/x-r-source",
   "name": "R",
   "pygments_lexer": "r",
   "version": "3.6.1"
  }
 },
 "nbformat": 4,
 "nbformat_minor": 5
}
